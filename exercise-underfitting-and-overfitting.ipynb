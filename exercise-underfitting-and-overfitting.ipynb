{
 "cells": [
  {
   "cell_type": "markdown",
   "id": "c89f9d0d",
   "metadata": {
    "papermill": {
     "duration": 0.005392,
     "end_time": "2022-08-10T23:49:42.079383",
     "exception": false,
     "start_time": "2022-08-10T23:49:42.073991",
     "status": "completed"
    },
    "tags": []
   },
   "source": [
    "**This notebook is an exercise in the [Introduction to Machine Learning](https://www.kaggle.com/learn/intro-to-machine-learning) course.  You can reference the tutorial at [this link](https://www.kaggle.com/dansbecker/underfitting-and-overfitting).**\n",
    "\n",
    "---\n"
   ]
  },
  {
   "cell_type": "markdown",
   "id": "43c3ef5e",
   "metadata": {
    "papermill": {
     "duration": 0.003497,
     "end_time": "2022-08-10T23:49:42.087026",
     "exception": false,
     "start_time": "2022-08-10T23:49:42.083529",
     "status": "completed"
    },
    "tags": []
   },
   "source": [
    "## Recap\n",
    "You've built your first model, and now it's time to optimize the size of the tree to make better predictions. Run this cell to set up your coding environment where the previous step left off."
   ]
  },
  {
   "cell_type": "code",
   "execution_count": 1,
   "id": "8b8e8f7f",
   "metadata": {
    "execution": {
     "iopub.execute_input": "2022-08-10T23:49:42.097294Z",
     "iopub.status.busy": "2022-08-10T23:49:42.096760Z",
     "iopub.status.idle": "2022-08-10T23:49:43.658521Z",
     "shell.execute_reply": "2022-08-10T23:49:43.656975Z"
    },
    "papermill": {
     "duration": 1.570861,
     "end_time": "2022-08-10T23:49:43.661826",
     "exception": false,
     "start_time": "2022-08-10T23:49:42.090965",
     "status": "completed"
    },
    "tags": []
   },
   "outputs": [
    {
     "name": "stdout",
     "output_type": "stream",
     "text": [
      "Validation MAE: 29,653\n",
      "\n",
      "Setup complete\n"
     ]
    }
   ],
   "source": [
    "# Code you have previously used to load data\n",
    "import pandas as pd\n",
    "from sklearn.metrics import mean_absolute_error\n",
    "from sklearn.model_selection import train_test_split\n",
    "from sklearn.tree import DecisionTreeRegressor\n",
    "\n",
    "\n",
    "# Path of the file to read\n",
    "iowa_file_path = '../input/home-data-for-ml-course/train.csv'\n",
    "\n",
    "home_data = pd.read_csv(iowa_file_path)\n",
    "# Create target object and call it y\n",
    "y = home_data.SalePrice\n",
    "# Create X\n",
    "features = ['LotArea', 'YearBuilt', '1stFlrSF', '2ndFlrSF', 'FullBath', 'BedroomAbvGr', 'TotRmsAbvGrd']\n",
    "X = home_data[features]\n",
    "\n",
    "# Split into validation and training data\n",
    "train_X, val_X, train_y, val_y = train_test_split(X, y, random_state=1)\n",
    "\n",
    "# Specify Model\n",
    "iowa_model = DecisionTreeRegressor(random_state=1)\n",
    "# Fit Model\n",
    "iowa_model.fit(train_X, train_y)\n",
    "\n",
    "# Make validation predictions and calculate mean absolute error\n",
    "val_predictions = iowa_model.predict(val_X)\n",
    "val_mae = mean_absolute_error(val_predictions, val_y)\n",
    "print(\"Validation MAE: {:,.0f}\".format(val_mae))\n",
    "\n",
    "# Set up code checking\n",
    "from learntools.core import binder\n",
    "binder.bind(globals())\n",
    "from learntools.machine_learning.ex5 import *\n",
    "print(\"\\nSetup complete\")"
   ]
  },
  {
   "cell_type": "markdown",
   "id": "a9f3c99b",
   "metadata": {
    "papermill": {
     "duration": 0.003356,
     "end_time": "2022-08-10T23:49:43.670580",
     "exception": false,
     "start_time": "2022-08-10T23:49:43.667224",
     "status": "completed"
    },
    "tags": []
   },
   "source": [
    "# Exercises\n",
    "You could write the function `get_mae` yourself. For now, we'll supply it. This is the same function you read about in the previous lesson. Just run the cell below."
   ]
  },
  {
   "cell_type": "code",
   "execution_count": 2,
   "id": "6c5604ad",
   "metadata": {
    "execution": {
     "iopub.execute_input": "2022-08-10T23:49:43.679943Z",
     "iopub.status.busy": "2022-08-10T23:49:43.679525Z",
     "iopub.status.idle": "2022-08-10T23:49:43.685590Z",
     "shell.execute_reply": "2022-08-10T23:49:43.684332Z"
    },
    "papermill": {
     "duration": 0.013938,
     "end_time": "2022-08-10T23:49:43.688114",
     "exception": false,
     "start_time": "2022-08-10T23:49:43.674176",
     "status": "completed"
    },
    "tags": []
   },
   "outputs": [],
   "source": [
    "def get_mae(max_leaf_nodes, train_X, val_X, train_y, val_y):\n",
    "    model = DecisionTreeRegressor(max_leaf_nodes=max_leaf_nodes, random_state=0)\n",
    "    model.fit(train_X, train_y)\n",
    "    preds_val = model.predict(val_X)\n",
    "    mae = mean_absolute_error(val_y, preds_val)\n",
    "    return(mae)"
   ]
  },
  {
   "cell_type": "markdown",
   "id": "df90de43",
   "metadata": {
    "papermill": {
     "duration": 0.003335,
     "end_time": "2022-08-10T23:49:43.695135",
     "exception": false,
     "start_time": "2022-08-10T23:49:43.691800",
     "status": "completed"
    },
    "tags": []
   },
   "source": [
    "## Step 1: Compare Different Tree Sizes\n",
    "Write a loop that tries the following values for *max_leaf_nodes* from a set of possible values.\n",
    "\n",
    "Call the *get_mae* function on each value of max_leaf_nodes. Store the output in some way that allows you to select the value of `max_leaf_nodes` that gives the most accurate model on your data."
   ]
  },
  {
   "cell_type": "code",
   "execution_count": 3,
   "id": "d8ffee09",
   "metadata": {
    "execution": {
     "iopub.execute_input": "2022-08-10T23:49:43.704342Z",
     "iopub.status.busy": "2022-08-10T23:49:43.703896Z",
     "iopub.status.idle": "2022-08-10T23:49:43.752740Z",
     "shell.execute_reply": "2022-08-10T23:49:43.751927Z"
    },
    "papermill": {
     "duration": 0.056225,
     "end_time": "2022-08-10T23:49:43.754995",
     "exception": false,
     "start_time": "2022-08-10T23:49:43.698770",
     "status": "completed"
    },
    "tags": []
   },
   "outputs": [
    {
     "data": {
      "application/javascript": [
       "parent.postMessage({\"jupyterEvent\": \"custom.exercise_interaction\", \"data\": {\"outcomeType\": 1, \"valueTowardsCompletion\": 0.5, \"interactionType\": 1, \"questionType\": 1, \"questionId\": \"1_BestTreeSize\", \"learnToolsVersion\": \"0.3.4\", \"failureMessage\": \"\", \"exceptionClass\": \"\", \"trace\": \"\"}}, \"*\")"
      ],
      "text/plain": [
       "<IPython.core.display.Javascript object>"
      ]
     },
     "metadata": {},
     "output_type": "display_data"
    },
    {
     "data": {
      "text/markdown": [
       "<span style=\"color:#33cc33\">Correct</span>"
      ],
      "text/plain": [
       "Correct"
      ]
     },
     "metadata": {},
     "output_type": "display_data"
    }
   ],
   "source": [
    "def get_mae(max_leaf_nodes, train_X, val_X, train_y, val_y):\n",
    "    model = DecisionTreeRegressor(max_leaf_nodes=max_leaf_nodes, random_state=0)\n",
    "    model.fit(train_X, train_y)\n",
    "    preds_val = model.predict(val_X)\n",
    "    mae = mean_absolute_error(val_y, preds_val)\n",
    "    return(mae)\n",
    "\n",
    "candidate_max_leaf_nodes = [5, 25, 50, 100, 250, 500]\n",
    "# Write loop to find the ideal tree size from candidate_max_leaf_nodes\n",
    "scores = {leaf_size: get_mae(leaf_size, train_X, val_X, train_y, val_y) for leaf_size in candidate_max_leaf_nodes}\n",
    "best_tree_size = min(scores, key=scores.get)\n",
    "# Check your answer\n",
    "step_1.check()"
   ]
  },
  {
   "cell_type": "code",
   "execution_count": 4,
   "id": "e84ec746",
   "metadata": {
    "execution": {
     "iopub.execute_input": "2022-08-10T23:49:43.765113Z",
     "iopub.status.busy": "2022-08-10T23:49:43.764410Z",
     "iopub.status.idle": "2022-08-10T23:49:43.768254Z",
     "shell.execute_reply": "2022-08-10T23:49:43.767385Z"
    },
    "papermill": {
     "duration": 0.011723,
     "end_time": "2022-08-10T23:49:43.770702",
     "exception": false,
     "start_time": "2022-08-10T23:49:43.758979",
     "status": "completed"
    },
    "tags": []
   },
   "outputs": [],
   "source": [
    "# The lines below will show you a hint or the solution.\n",
    "# step_1.hint() \n",
    "# step_1.solution()"
   ]
  },
  {
   "cell_type": "markdown",
   "id": "38d5ba4c",
   "metadata": {
    "papermill": {
     "duration": 0.003767,
     "end_time": "2022-08-10T23:49:43.778500",
     "exception": false,
     "start_time": "2022-08-10T23:49:43.774733",
     "status": "completed"
    },
    "tags": []
   },
   "source": [
    "## Step 2: Fit Model Using All Data\n",
    "You know the best tree size. If you were going to deploy this model in practice, you would make it even more accurate by using all of the data and keeping that tree size.  That is, you don't need to hold out the validation data now that you've made all your modeling decisions."
   ]
  },
  {
   "cell_type": "code",
   "execution_count": 5,
   "id": "52652cd4",
   "metadata": {
    "execution": {
     "iopub.execute_input": "2022-08-10T23:49:43.788324Z",
     "iopub.status.busy": "2022-08-10T23:49:43.787750Z",
     "iopub.status.idle": "2022-08-10T23:49:43.806499Z",
     "shell.execute_reply": "2022-08-10T23:49:43.805282Z"
    },
    "papermill": {
     "duration": 0.026309,
     "end_time": "2022-08-10T23:49:43.808711",
     "exception": false,
     "start_time": "2022-08-10T23:49:43.782402",
     "status": "completed"
    },
    "tags": []
   },
   "outputs": [
    {
     "data": {
      "application/javascript": [
       "parent.postMessage({\"jupyterEvent\": \"custom.exercise_interaction\", \"data\": {\"outcomeType\": 1, \"valueTowardsCompletion\": 0.5, \"interactionType\": 1, \"questionType\": 2, \"questionId\": \"2_FitModelWithAllData\", \"learnToolsVersion\": \"0.3.4\", \"failureMessage\": \"\", \"exceptionClass\": \"\", \"trace\": \"\"}}, \"*\")"
      ],
      "text/plain": [
       "<IPython.core.display.Javascript object>"
      ]
     },
     "metadata": {},
     "output_type": "display_data"
    },
    {
     "data": {
      "text/markdown": [
       "<span style=\"color:#33cc33\">Correct</span>"
      ],
      "text/plain": [
       "Correct"
      ]
     },
     "metadata": {},
     "output_type": "display_data"
    }
   ],
   "source": [
    "# Fill in argument to make optimal size and uncomment\n",
    "# final_model = DecisionTreeRegressor(____)\n",
    "final_model = DecisionTreeRegressor(max_leaf_nodes = best_tree_size, random_state = 1)\n",
    "# fit the final model and uncomment the next two lines\n",
    "# final_model.fit(____, ____)\n",
    "final_model.fit(X, y)\n",
    "# Check your answer\n",
    "step_2.check()"
   ]
  },
  {
   "cell_type": "code",
   "execution_count": 6,
   "id": "165726ab",
   "metadata": {
    "execution": {
     "iopub.execute_input": "2022-08-10T23:49:43.819358Z",
     "iopub.status.busy": "2022-08-10T23:49:43.818584Z",
     "iopub.status.idle": "2022-08-10T23:49:43.822597Z",
     "shell.execute_reply": "2022-08-10T23:49:43.821697Z"
    },
    "papermill": {
     "duration": 0.011947,
     "end_time": "2022-08-10T23:49:43.824779",
     "exception": false,
     "start_time": "2022-08-10T23:49:43.812832",
     "status": "completed"
    },
    "tags": []
   },
   "outputs": [],
   "source": [
    "# step_2.hint()\n",
    "# step_2.solution()"
   ]
  },
  {
   "cell_type": "markdown",
   "id": "32f070a2",
   "metadata": {
    "papermill": {
     "duration": 0.00406,
     "end_time": "2022-08-10T23:49:43.833317",
     "exception": false,
     "start_time": "2022-08-10T23:49:43.829257",
     "status": "completed"
    },
    "tags": []
   },
   "source": [
    "You've tuned this model and improved your results. But we are still using Decision Tree models, which are not very sophisticated by modern machine learning standards. In the next step you will learn to use Random Forests to improve your models even more.\n",
    "\n",
    "# Keep Going\n",
    "\n",
    "You are ready for **[Random Forests](https://www.kaggle.com/dansbecker/random-forests).**\n"
   ]
  },
  {
   "cell_type": "markdown",
   "id": "410f6f53",
   "metadata": {
    "papermill": {
     "duration": 0.003806,
     "end_time": "2022-08-10T23:49:43.841330",
     "exception": false,
     "start_time": "2022-08-10T23:49:43.837524",
     "status": "completed"
    },
    "tags": []
   },
   "source": [
    "---\n",
    "\n",
    "\n",
    "\n",
    "\n",
    "*Have questions or comments? Visit the [course discussion forum](https://www.kaggle.com/learn/intro-to-machine-learning/discussion) to chat with other learners.*"
   ]
  }
 ],
 "metadata": {
  "kernelspec": {
   "display_name": "Python 3",
   "language": "python",
   "name": "python3"
  },
  "language_info": {
   "codemirror_mode": {
    "name": "ipython",
    "version": 3
   },
   "file_extension": ".py",
   "mimetype": "text/x-python",
   "name": "python",
   "nbconvert_exporter": "python",
   "pygments_lexer": "ipython3",
   "version": "3.7.12"
  },
  "papermill": {
   "default_parameters": {},
   "duration": 14.555427,
   "end_time": "2022-08-10T23:49:44.872509",
   "environment_variables": {},
   "exception": null,
   "input_path": "__notebook__.ipynb",
   "output_path": "__notebook__.ipynb",
   "parameters": {},
   "start_time": "2022-08-10T23:49:30.317082",
   "version": "2.3.4"
  }
 },
 "nbformat": 4,
 "nbformat_minor": 5
}
